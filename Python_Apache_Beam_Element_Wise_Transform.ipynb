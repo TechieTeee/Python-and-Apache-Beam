{
  "cells": [
    {
      "cell_type": "code",
      "execution_count": 1,
      "metadata": {
        "id": "setup-code",
        "colab": {
          "base_uri": "https://localhost:8080/"
        },
        "outputId": "9fa0f4b0-0a94-40af-f03b-19aea0378707"
      },
      "outputs": [
        {
          "output_type": "stream",
          "name": "stdout",
          "text": [
            "\u001b[K     |████████████████████████████████| 10.9 MB 4.9 MB/s \n",
            "\u001b[K     |████████████████████████████████| 270 kB 58.6 MB/s \n",
            "\u001b[K     |████████████████████████████████| 2.4 MB 33.9 MB/s \n",
            "\u001b[K     |████████████████████████████████| 508 kB 47.5 MB/s \n",
            "\u001b[K     |████████████████████████████████| 151 kB 46.9 MB/s \n",
            "\u001b[K     |████████████████████████████████| 47 kB 5.0 MB/s \n",
            "\u001b[K     |████████████████████████████████| 62 kB 1.4 MB/s \n",
            "\u001b[K     |████████████████████████████████| 1.0 MB 46.7 MB/s \n",
            "\u001b[?25h  Building wheel for dill (setup.py) ... \u001b[?25l\u001b[?25hdone\n",
            "  Building wheel for docopt (setup.py) ... \u001b[?25l\u001b[?25hdone\n",
            "\u001b[31mERROR: pip's dependency resolver does not currently take into account all the packages that are installed. This behaviour is the source of the following dependency conflicts.\n",
            "tensorflow 2.8.2+zzzcolab20220719082949 requires protobuf<3.20,>=3.9.2, but you have protobuf 3.20.1 which is incompatible.\u001b[0m\n"
          ]
        }
      ],
      "source": [
        "!pip install --quiet -U apache-beam"
      ]
    },
    {
      "cell_type": "code",
      "source": [
        "import apache_beam as beam"
      ],
      "metadata": {
        "id": "2eAV3uMkdpre"
      },
      "execution_count": 2,
      "outputs": []
    },
    {
      "cell_type": "code",
      "execution_count": 4,
      "metadata": {
        "id": "example-2-pardo-with-timestamp-and-window-information-code",
        "colab": {
          "base_uri": "https://localhost:8080/"
        },
        "outputId": "9baa9196-30d0-44ee-bbfa-9f6196b84a98"
      },
      "outputs": [
        {
          "output_type": "stream",
          "name": "stdout",
          "text": [
            "# timestamp\n",
            "type(timestamp) -> <class 'apache_beam.utils.timestamp.Timestamp'>\n",
            "timestamp.micros -> 1584675660000000\n",
            "timestamp.to_rfc3339() -> '2020-03-20T03:41:00Z'\n",
            "timestamp.to_utc_datetime() -> datetime.datetime(2020, 3, 20, 3, 41)\n",
            "\n",
            "# window\n",
            "type(window) -> <class 'apache_beam.transforms.window.IntervalWindow'>\n",
            "window.start -> Timestamp(1584675660) (2020-03-20 03:41:00)\n",
            "window.end -> Timestamp(1584675690) (2020-03-20 03:41:30)\n",
            "window.max_timestamp() -> Timestamp(1584675689.999999) (2020-03-20 03:41:29.999999)\n"
          ]
        }
      ],
      "source": [
        "class AnalyzeElement(beam.DoFn):\n",
        "  def process(\n",
        "      self,\n",
        "      elem,\n",
        "      timestamp=beam.DoFn.TimestampParam,\n",
        "      window=beam.DoFn.WindowParam):\n",
        "    yield '\\n'.join([\n",
        "        '# timestamp',\n",
        "        'type(timestamp) -> ' + repr(type(timestamp)),\n",
        "        'timestamp.micros -> ' + repr(timestamp.micros),\n",
        "        'timestamp.to_rfc3339() -> ' + repr(timestamp.to_rfc3339()),\n",
        "        'timestamp.to_utc_datetime() -> ' + repr(timestamp.to_utc_datetime()),\n",
        "        '',\n",
        "        '# window',\n",
        "        'type(window) -> ' + repr(type(window)),\n",
        "        'window.start -> {} ({})'.format(\n",
        "            window.start, window.start.to_utc_datetime()),\n",
        "        'window.end -> {} ({})'.format(\n",
        "            window.end, window.end.to_utc_datetime()),\n",
        "        'window.max_timestamp() -> {} ({})'.format(\n",
        "            window.max_timestamp(), window.max_timestamp().to_utc_datetime()),\n",
        "    ])\n",
        "\n",
        "with beam.Pipeline() as pipeline:\n",
        "  dofn_params = (\n",
        "      pipeline\n",
        "      | 'Create a single test element' >> beam.Create([':)'])\n",
        "      | 'Add timestamp (Spring equinox 2020)' >>\n",
        "      beam.Map(lambda elem: beam.window.TimestampedValue(elem, 1584675660))\n",
        "      |\n",
        "      'Fixed 30sec windows' >> beam.WindowInto(beam.window.FixedWindows(30))\n",
        "      | 'Analyze element' >> beam.ParDo(AnalyzeElement())\n",
        "      | beam.Map(print))"
      ]
    }
  ],
  "metadata": {
    "colab": {
      "toc_visible": true,
      "provenance": []
    },
    "kernelspec": {
      "display_name": "python3",
      "name": "python3"
    }
  },
  "nbformat": 4,
  "nbformat_minor": 0
}